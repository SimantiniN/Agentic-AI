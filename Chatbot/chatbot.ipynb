{
 "cells": [
  {
   "cell_type": "code",
   "execution_count": null,
   "id": "1e08cfa6",
   "metadata": {},
   "outputs": [],
   "source": [
    "import os, certifi\n",
    "from dotenv import load_dotenv\n"
   ]
  },
  {
   "cell_type": "code",
   "execution_count": null,
   "id": "d4e69edb",
   "metadata": {},
   "outputs": [],
   "source": [
    "import sys\n",
    "print(sys.executable)"
   ]
  },
  {
   "cell_type": "code",
   "execution_count": null,
   "id": "e1ad6b38",
   "metadata": {},
   "outputs": [],
   "source": [
    "# Load environment variables\n",
    "load_dotenv()\n",
    "os.environ[\"LANGCHAIN_API_KEY\"] = os.getenv(\"LANGCHAIN_API_KEY\")\n",
    "os.environ[\"LANGCHAIN_TRACING_V2\"] = \"true\"\n",
    "os.environ[\"LANGCHAIN_PROJECT\"] = os.getenv(\"LANGCHAIN_PROJECT\")\n",
    "os.environ[\"SSL_CERT_FILE\"] = certifi.where()\n",
    "os.environ[\"REQUESTS_CA_BUNDLE\"] = certifi.where()\n",
    "FILE_PATH = os.environ.get(\"FILE_PATH\")\n",
    "FILE_PATH"
   ]
  },
  {
   "cell_type": "code",
   "execution_count": null,
   "id": "946e3e48",
   "metadata": {},
   "outputs": [],
   "source": [
    "# ---- 1. Load LLM + Embeddings (Ollama) ----\n",
    "from langchain_community.llms import Ollama\n",
    "from langchain_ollama import OllamaEmbeddings"
   ]
  },
  {
   "cell_type": "code",
   "execution_count": null,
   "id": "6e08ec9f",
   "metadata": {},
   "outputs": [],
   "source": [
    "llm = Ollama(model=\"gemma3:4b\")   # Text generation\n",
    "embeddings_model = OllamaEmbeddings(model=\"nomic-embed-text\")"
   ]
  },
  {
   "cell_type": "code",
   "execution_count": null,
   "id": "535f8083",
   "metadata": {},
   "outputs": [],
   "source": [
    "# ---- 2. Load PDF ----\n",
    "from langchain_community.document_loaders import PyPDFLoader\n",
    "from langchain.text_splitter import RecursiveCharacterTextSplitter"
   ]
  },
  {
   "cell_type": "code",
   "execution_count": null,
   "id": "fe829e2d",
   "metadata": {},
   "outputs": [],
   "source": [
    "file_path = FILE_PATH"
   ]
  },
  {
   "cell_type": "code",
   "execution_count": null,
   "id": "839f7622",
   "metadata": {},
   "outputs": [],
   "source": [
    "loader = PyPDFLoader(file_path)\n",
    "docs = loader.load()"
   ]
  },
  {
   "cell_type": "code",
   "execution_count": null,
   "id": "2c701368",
   "metadata": {},
   "outputs": [],
   "source": [
    "print(\"Sample text from PDF:\")\n",
    "print(docs[0].page_content[:200])   # Preview first 200 chars\n",
    "print(docs[0].metadata)"
   ]
  },
  {
   "cell_type": "code",
   "execution_count": null,
   "id": "5972867a",
   "metadata": {},
   "outputs": [],
   "source": [
    "# ---- 3. Split text into chunks ----\n",
    "text_splitter = RecursiveCharacterTextSplitter(\n",
    "    chunk_size=1000,\n",
    "    chunk_overlap=50,\n",
    ")\n",
    "final_documents = text_splitter.split_documents(docs)\n"
   ]
  },
  {
   "cell_type": "code",
   "execution_count": null,
   "id": "29448041",
   "metadata": {},
   "outputs": [],
   "source": [
    "# ---- 4. Create Vectorstore ----\n",
    "from langchain.vectorstores import FAISS\n",
    "\n",
    "vectorstore = FAISS.from_documents(final_documents, embeddings_model)\n"
   ]
  },
  {
   "cell_type": "code",
   "execution_count": null,
   "id": "416482fd",
   "metadata": {},
   "outputs": [],
   "source": [
    "# ---- 5. Create Retriever ----\n",
    "retriever = vectorstore.as_retriever(search_kwargs={\"k\": 3})"
   ]
  },
  {
   "cell_type": "code",
   "execution_count": null,
   "id": "efecf986",
   "metadata": {},
   "outputs": [],
   "source": [
    "# ---- 6. Create Prompt Chain ----\n",
    "from langchain.chains import RetrievalQA"
   ]
  },
  {
   "cell_type": "code",
   "execution_count": null,
   "id": "99988acb",
   "metadata": {},
   "outputs": [],
   "source": [
    "prompt = RetrievalQA.from_chain_type(\n",
    "    llm=llm,\n",
    "    retriever=retriever,\n",
    "    chain_type=\"stuff\",   # \"stuff\" = direct injection, try \"map_reduce\" if PDF is big\n",
    "    return_source_documents=True\n",
    ")"
   ]
  },
  {
   "cell_type": "code",
   "execution_count": null,
   "id": "82a5e49c",
   "metadata": {},
   "outputs": [],
   "source": [
    "# ---- 7. Ask Questions ----\n",
    "#query = \"What was Shivaji's role in promoting the navy?\"\n",
    "#query = \"Who is Shivaji?\"\n",
    "#query =\"Shivaji's birthday\"\n",
    "#query = \"who is Shivaji great grandfather?\"\n",
    "\n",
    "query = \"Shivaji's birthday\"\n",
    "# prompt = RetrievalQA.from_chain_type(\n",
    "answer = prompt.invoke({\"query\": query})\n"
   ]
  },
  {
   "cell_type": "code",
   "execution_count": null,
   "id": "3df9fdbc",
   "metadata": {},
   "outputs": [],
   "source": [
    "print(\"\\nAnswer:\")\n",
    "print(answer[\"result\"])\n",
    "\n",
    "# print(\"\\nSources:\")\n",
    "# for i, doc in enumerate(answer[\"source_documents\"], 1):\n",
    "#     print(f\"Source {i}: {doc.metadata} -> {doc.page_content[:100]}...\")"
   ]
  }
 ],
 "metadata": {
  "kernelspec": {
   "display_name": "myenv",
   "language": "python",
   "name": "python3"
  },
  "language_info": {
   "codemirror_mode": {
    "name": "ipython",
    "version": 3
   },
   "file_extension": ".py",
   "mimetype": "text/x-python",
   "name": "python",
   "nbconvert_exporter": "python",
   "pygments_lexer": "ipython3",
   "version": "3.12.11"
  }
 },
 "nbformat": 4,
 "nbformat_minor": 5
}
