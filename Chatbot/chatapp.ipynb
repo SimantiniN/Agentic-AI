{
 "cells": [
  {
   "cell_type": "markdown",
   "id": "46c69f36",
   "metadata": {},
   "source": [
    "#https://python.langchain.com/docs/integrations/document_loaders/pypdfloader/"
   ]
  },
  {
   "cell_type": "code",
   "execution_count": null,
   "id": "b4d09c8b",
   "metadata": {},
   "outputs": [],
   "source": [
    "import sys\n",
    "print(sys.executable)"
   ]
  },
  {
   "cell_type": "markdown",
   "id": "b8fc5909",
   "metadata": {},
   "source": [
    "Import all envirnments from .env file"
   ]
  },
  {
   "cell_type": "code",
   "execution_count": null,
   "id": "2f00dfe4",
   "metadata": {},
   "outputs": [],
   "source": [
    "import os,certifi\n",
    "from langchain_groq import chat_models\n",
    "from dotenv import load_dotenv\n",
    "load_dotenv()\n",
    "\n",
    "#  os.environ['OPENAI_API_KEY']=os.getenv(\"OPENAI_API_KEY\")\n",
    "## Langsmith Tracking\n",
    "#os.environ[\"LANGCHAIN_API_KEY\"]=os.getenv(\"LANGCHAIN_API_KEY\")\n",
    "os.environ[\"LANGCHAIN_TRACING_V2\"]=\"true\"\n",
    "os.environ[\"LANGCHAIN_PROJECT\"]=os.getenv(\"LANGCHAIN_PROJECT\")\n",
    "os.environ[\"SSL_CERT_FILE\"] = certifi.where()\n",
    "os.environ[\"REQUESTS_CA_BUNDLE\"] = certifi.where()\n",
    "GROQ_API_KEY = os.getenv(\"GROQ_API_KEY\")\n",
    "# GROQ_API_KEY\n",
    "LANGCHAIN_API_KEY  = os.getenv(\"LANGCHAIN_API_KEY\")\n",
    "#LANGCHAIN_API_KEY\n",
    "FILE_PATH = os.environ.get(\"FILE_PATH\")\n",
    "# FILE_PATH"
   ]
  },
  {
   "cell_type": "code",
   "execution_count": null,
   "id": "cb045ccf",
   "metadata": {},
   "outputs": [],
   "source": [
    "from langchain_community.llms import Ollama\n",
    "from langchain_ollama import OllamaLLM, OllamaEmbeddings\n",
    "\n",
    "llm = Ollama(model=\"gemma3:4b\")   # This one generates text\n"
   ]
  },
  {
   "cell_type": "markdown",
   "id": "a1e8a39c",
   "metadata": {},
   "source": [
    "Initialization"
   ]
  },
  {
   "cell_type": "code",
   "execution_count": null,
   "id": "7f27f40b",
   "metadata": {},
   "outputs": [],
   "source": [
    "from langchain.text_splitter import RecursiveCharacterTextSplitter\n",
    "from langchain_community.document_loaders import PyPDFLoader\n",
    "from langchain.chains import RetrievalQA"
   ]
  },
  {
   "cell_type": "code",
   "execution_count": null,
   "id": "4c1cca9c",
   "metadata": {},
   "outputs": [],
   "source": [
    "file_path = FILE_PATH\n",
    "loader = PyPDFLoader(file_path)"
   ]
  },
  {
   "cell_type": "code",
   "execution_count": null,
   "id": "5c480599",
   "metadata": {},
   "outputs": [],
   "source": [
    "loader"
   ]
  },
  {
   "cell_type": "markdown",
   "id": "a0e46247",
   "metadata": {},
   "source": [
    "Load"
   ]
  },
  {
   "cell_type": "code",
   "execution_count": null,
   "id": "b7621dcb",
   "metadata": {},
   "outputs": [],
   "source": [
    "docs = loader.load()\n",
    "print(docs[0].page_content)      # The text from the first page\n",
    "print(docs[0].metadata)    "
   ]
  },
  {
   "cell_type": "code",
   "execution_count": null,
   "id": "90384f04",
   "metadata": {},
   "outputs": [],
   "source": [
    "type(docs)"
   ]
  },
  {
   "cell_type": "code",
   "execution_count": null,
   "id": "728f607e",
   "metadata": {},
   "outputs": [],
   "source": [
    "print(len(docs))\n",
    "# print.pp(docs[0].metadata)"
   ]
  },
  {
   "cell_type": "markdown",
   "id": "a77f8b28",
   "metadata": {},
   "source": [
    " 2. Initialize the recursive text splitter"
   ]
  },
  {
   "cell_type": "code",
   "execution_count": null,
   "id": "052f9ae9",
   "metadata": {},
   "outputs": [],
   "source": [
    "text_splitter = RecursiveCharacterTextSplitter(\n",
    "    chunk_size=1000,    # max characters per chunk\n",
    "    chunk_overlap=50,  # overlap to preserve context\n",
    ")"
   ]
  },
  {
   "cell_type": "code",
   "execution_count": null,
   "id": "9308109f",
   "metadata": {},
   "outputs": [],
   "source": [
    "text_splitter"
   ]
  },
  {
   "cell_type": "markdown",
   "id": "6a46f1cd",
   "metadata": {},
   "source": [
    "3. Recursively split the documents"
   ]
  },
  {
   "cell_type": "code",
   "execution_count": null,
   "id": "995b26ee",
   "metadata": {},
   "outputs": [],
   "source": [
    "final_document = text_splitter.split_documents(docs)"
   ]
  },
  {
   "cell_type": "code",
   "execution_count": null,
   "id": "25762dde",
   "metadata": {},
   "outputs": [],
   "source": [
    "final_document "
   ]
  },
  {
   "cell_type": "code",
   "execution_count": null,
   "id": "eb30960c",
   "metadata": {},
   "outputs": [],
   "source": [
    "type(final_document)"
   ]
  },
  {
   "cell_type": "code",
   "execution_count": null,
   "id": "b80fd83d",
   "metadata": {},
   "outputs": [],
   "source": [
    "print(f\"Total chunks: {len(final_document)}\")\n",
    "print(final_document[0])\n",
    "print(final_document[1])"
   ]
  },
  {
   "cell_type": "markdown",
   "id": "553d46ea",
   "metadata": {},
   "source": [
    "Embeddings"
   ]
  },
  {
   "cell_type": "code",
   "execution_count": null,
   "id": "44b335fc",
   "metadata": {},
   "outputs": [],
   "source": [
    "from langchain_ollama import OllamaEmbeddings"
   ]
  },
  {
   "cell_type": "code",
   "execution_count": null,
   "id": "72d0aae3",
   "metadata": {},
   "outputs": [],
   "source": [
    "\n",
    "embeddings_model = OllamaEmbeddings(\n",
    "    # model=\"gemma3:4b\"\n",
    "    model=\"nomic-embed-text\"\n",
    ")"
   ]
  },
  {
   "cell_type": "code",
   "execution_count": null,
   "id": "b72de852",
   "metadata": {},
   "outputs": [],
   "source": [
    "embeddings_model"
   ]
  },
  {
   "cell_type": "code",
   "execution_count": null,
   "id": "19818bdd",
   "metadata": {},
   "outputs": [],
   "source": [
    "from langchain.vectorstores import Chroma\n",
    "from tqdm import tqdm\n",
    "import logging"
   ]
  },
  {
   "cell_type": "code",
   "execution_count": null,
   "id": "95030d11",
   "metadata": {},
   "outputs": [],
   "source": [
    "from langchain.vectorstores import FAISS"
   ]
  },
  {
   "cell_type": "code",
   "execution_count": null,
   "id": "bddecbdc",
   "metadata": {},
   "outputs": [],
   "source": [
    "# vectorstore = FAISS.load_local(\n",
    "#     \"faiss_index\",\n",
    "#     embeddings_model,\n",
    "#     allow_dangerous_deserialization=True\n",
    "# )\n",
    "vectorstore = FAISS.from_documents(final_document, embeddings_model)\n"
   ]
  },
  {
   "cell_type": "code",
   "execution_count": null,
   "id": "d7d68b96",
   "metadata": {},
   "outputs": [],
   "source": [
    "vectorstore "
   ]
  },
  {
   "cell_type": "code",
   "execution_count": null,
   "id": "4cd69a03",
   "metadata": {},
   "outputs": [],
   "source": [
    "retriever = vectorstore.as_retriever()"
   ]
  },
  {
   "cell_type": "code",
   "execution_count": null,
   "id": "2a3ab73f",
   "metadata": {},
   "outputs": [],
   "source": [
    "# # Create retriever from vectorstore to take a data from vectorstoredb\n",
    "# vectorstore = FAISS.load_local(\"faiss_index\", embeddings_model)\n",
    "# retriever = vectorstore.as_retriever(search_kwargs={\"k\": 3})\n",
    "retriever = vectorstore.as_retriever(search_kwargs={\"k\": 3}) # type: ignore"
   ]
  },
  {
   "cell_type": "code",
   "execution_count": null,
   "id": "1f8441b6",
   "metadata": {},
   "outputs": [],
   "source": [
    "prompt = RetrievalQA.from_chain_type(\n",
    "    llm=llm,\n",
    "    retriever=retriever,\n",
    "    chain_type=\"stuff\"   # can also try \"map_reduce\" or \"refine\"\n",
    ")\n",
    "prompt"
   ]
  },
  {
   "cell_type": "code",
   "execution_count": null,
   "id": "49d498bd",
   "metadata": {},
   "outputs": [],
   "source": [
    "#query = \"What was Shivaji's role in promoting the navy?\"\n",
    "#query = \"Who is Shivaji?\"\n",
    "#query =\"Shivaji's birthday\"\n",
    "query = \"who is Shivaji great grandfather?\"\n"
   ]
  },
  {
   "cell_type": "code",
   "execution_count": null,
   "id": "19d8f7c0",
   "metadata": {},
   "outputs": [],
   "source": [
    "answer = prompt.invoke({\"query\": query})\n",
    "print(answer['result'])\n"
   ]
  },
  {
   "cell_type": "markdown",
   "id": "229c4b08",
   "metadata": {},
   "source": [
    "#### Rough work"
   ]
  },
  {
   "cell_type": "code",
   "execution_count": null,
   "id": "116107f2",
   "metadata": {},
   "outputs": [],
   "source": [
    "# vectorstore = Chroma(persist_directory=persist_directory, embedding_function=embeddings_model)\n",
    "# for i, chunk in enumerate(tqdm(final_document, desc=\"Processing chunks\"), 1):\n",
    "#     vectorstore.add_documents([chunk], embedding=embeddings_model)\n",
    "#     logging.info(f\"Stored {len(final_document)} chunks in the vectorstore.\")"
   ]
  },
  {
   "cell_type": "markdown",
   "id": "e111e383",
   "metadata": {},
   "source": []
  },
  {
   "cell_type": "code",
   "execution_count": null,
   "id": "3805bb47",
   "metadata": {},
   "outputs": [],
   "source": [
    "#query = \"What was Shivaji's role in promoting the navy?\"\n",
    "#query = \"Who is Shivaji?\"\n",
    "query =\"Shivaji's birthday\"\n",
    "results = vectorstore.similarity_search(query)  # k = number of top results\n",
    "print(results[0].page_content)\n",
    "# for i, doc in enumerate(results, 1):\n",
    "#     print(f\"Result {i}:\")\n",
    "#     print(doc.page_content)\n",
    "#     print(\"-\" * 40)\n"
   ]
  },
  {
   "cell_type": "code",
   "execution_count": null,
   "id": "8b2d945e",
   "metadata": {},
   "outputs": [],
   "source": [
    "from langchain_groq import ChatGroq\n",
    "model = ChatGroq(model=\"gemma3:4b\",groq_api_key= GROQ_API_KEY) \n",
    "model"
   ]
  },
  {
   "cell_type": "code",
   "execution_count": null,
   "id": "14167a69",
   "metadata": {},
   "outputs": [],
   "source": []
  }
 ],
 "metadata": {
  "kernelspec": {
   "display_name": "myenv",
   "language": "python",
   "name": "python3"
  },
  "language_info": {
   "codemirror_mode": {
    "name": "ipython",
    "version": 3
   },
   "file_extension": ".py",
   "mimetype": "text/x-python",
   "name": "python",
   "nbconvert_exporter": "python",
   "pygments_lexer": "ipython3",
   "version": "3.12.11"
  }
 },
 "nbformat": 4,
 "nbformat_minor": 5
}
